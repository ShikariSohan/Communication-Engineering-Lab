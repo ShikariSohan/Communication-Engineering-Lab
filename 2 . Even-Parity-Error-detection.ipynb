{
 "cells": [
  {
   "cell_type": "markdown",
   "id": "4cf76938",
   "metadata": {},
   "source": [
    "# 4 * 8 Block Even Parity Error Detection\n",
    "## 2. Write a program for 4 x 8 block even parity error detection.\n",
    "### Reg no: 2018331068"
   ]
  },
  {
   "cell_type": "markdown",
   "id": "2c0b79af",
   "metadata": {},
   "source": [
    "**Encode Function:**    \n",
    "This Function takes the 4 * 8 matrix data and adds even parity.  \n",
    "*Params:* word (4 * 8 data matrix) , ROW (Row of the matrix) , COL (Column of the matrix)  \n",
    "Returns the codeword matrix (5 * 9)"
   ]
  },
  {
   "cell_type": "code",
   "execution_count": 1,
   "id": "36147296",
   "metadata": {},
   "outputs": [],
   "source": [
    "def encode(word,ROW,COL):\n",
    "  codeword = []\n",
    "  for i in range(ROW):         \n",
    "    a = []\n",
    "    c = 0\n",
    "    for j in range(COL):     \n",
    "         a.append(word[i][j])\n",
    "         c = c^word[i][j]\n",
    "    a.append(c)\n",
    "    codeword.append(a)\n",
    "  codeword.append([])\n",
    "  for j in range(COL+1):         \n",
    "      c = 0\n",
    "      for i in range(ROW):     \n",
    "          c = c^codeword[i][j]\n",
    "      codeword[ROW].append(c)\n",
    "  return codeword"
   ]
  },
  {
   "cell_type": "markdown",
   "id": "e93150f4",
   "metadata": {},
   "source": [
    "**Decode Function:**    \n",
    "This Function takes the 5 * 9 matrix codedata checks for error.  \n",
    "*Params:* word (4 * 8 data matrix) , ROW (Row of the matrix) , COL (Column of the matrix)  \n",
    "Returns *True* if it has no error else return *False*"
   ]
  },
  {
   "cell_type": "code",
   "execution_count": 6,
   "id": "94971fdd",
   "metadata": {},
   "outputs": [],
   "source": [
    "def decode(codeword,ROW,COL):\n",
    "  for i in range(ROW):\n",
    "    c = 0\n",
    "    for j in range(COL+1):\n",
    "         c = c^codeword[i][j]\n",
    "    if(c==1) :\n",
    "      return False\n",
    "  for j in range(COL):         \n",
    "        c = 0\n",
    "        for i in range(ROW+1):     \n",
    "            c = c^codeword[i][j]\n",
    "        if(c==1) :\n",
    "            return False\n",
    "  return True"
   ]
  },
  {
   "cell_type": "markdown",
   "id": "dde3e967",
   "metadata": {},
   "source": [
    "*Uncomment this codeblock to take manual input*"
   ]
  },
  {
   "cell_type": "code",
   "execution_count": 7,
   "id": "ad19c2e6",
   "metadata": {},
   "outputs": [],
   "source": [
    "# word = []\n",
    "# ROW=4\n",
    "# COL=8\n",
    "# print(\"Enter the 4*8 Matrix-\")\n",
    "# for i in range(ROW):         \n",
    "#     a = []\n",
    "#     for j in range(COL):     \n",
    "#          a.append(int(input(f\"Enter the value of cell {i+1}*{j+1} : \")))\n",
    "#     word.append(a)\n",
    "# print(encode(word,ROW,COL))\n",
    "# codeword=[]\n",
    "# print(\"Enter the 5*9 Encoded Matrix-\")\n",
    "# for i in range(ROW+1):         \n",
    "#     a = []\n",
    "#     for j in range(COL+1):     \n",
    "#          a.append(int(input(f\"Enter the value of cell {i+1}*{j+1} : \")))\n",
    "#     codeword.append(a)"
   ]
  },
  {
   "cell_type": "markdown",
   "id": "256bf96f",
   "metadata": {},
   "source": [
    "*Example :*"
   ]
  },
  {
   "cell_type": "code",
   "execution_count": 10,
   "id": "b20efd8a",
   "metadata": {},
   "outputs": [
    {
     "name": "stdout",
     "output_type": "stream",
     "text": [
      "[[1, 0, 1, 0, 1, 0, 0, 1, 0], [1, 0, 1, 1, 1, 0, 0, 1, 1], [1, 0, 1, 0, 1, 1, 0, 1, 1], [1, 1, 1, 0, 1, 0, 0, 0, 0], [0, 1, 0, 1, 0, 1, 0, 1, 0]]\n",
      "This recieved data has no error ? True\n",
      "This recieved data has no error ? False\n"
     ]
    }
   ],
   "source": [
    "word = [[1,0,1,0,1,0,0,1],[1,0,1,1,1,0,0,1],[1,0,1,0,1,1,0,1],[1,1,1,0,1,0,0,0]]\n",
    "print(encode(word,4,8))\n",
    "check_error1 = [[1,0,1,0,1,0,0,1,0],[1,0,1,1,1,0,0,1,1],[1,0,1,0,1,1,0,1,1],[1,1,1,0,1,0,0,0,0],[0,1,0,1,0,1,0,1,0]]\n",
    "check_error2 = [[1,0,1,0,1,0,0,1,0],[1,0,1,1,1,0,0,1,1],[1,0,1,0,1,1,0,1,1],[1,1,1,0,1,0,0,0,1],[0,1,0,1,0,1,0,1,0]]\n",
    "print(\"This recieved data has no error ? \"+str(decode(check_error1,4,8)))\n",
    "print(\"This recieved data has no error ? \"+str(decode(check_error2,4,8)))"
   ]
  }
 ],
 "metadata": {
  "kernelspec": {
   "display_name": "Python 3 (ipykernel)",
   "language": "python",
   "name": "python3"
  },
  "language_info": {
   "codemirror_mode": {
    "name": "ipython",
    "version": 3
   },
   "file_extension": ".py",
   "mimetype": "text/x-python",
   "name": "python",
   "nbconvert_exporter": "python",
   "pygments_lexer": "ipython3",
   "version": "3.9.12"
  }
 },
 "nbformat": 4,
 "nbformat_minor": 5
}
