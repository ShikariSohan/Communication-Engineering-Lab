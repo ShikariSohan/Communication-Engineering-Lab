{
 "cells": [
  {
   "cell_type": "markdown",
   "id": "3e5597b6",
   "metadata": {},
   "source": [
    "#  CRC (Cyclic Redundancy Code) error detection model.\n",
    "## 1. Write a program to implement a CRC (Cyclic Redundancy Code) error detection model.\n",
    "### Reg No: 2018331068"
   ]
  },
  {
   "cell_type": "markdown",
   "id": "a48de075",
   "metadata": {},
   "source": [
    "**Encode Function :**  \n",
    "Encode the data to send to the reciever.  \n",
    "Params:  *word* (the data we want to encode) , *divisor* (the key to use encode the data)  \n",
    "Returns the *codeword* (The encoded data)"
   ]
  },
  {
   "cell_type": "code",
   "execution_count": 12,
   "id": "9724aadb",
   "metadata": {},
   "outputs": [],
   "source": [
    "def encode(word,divisor):\n",
    "  dividend = word.ljust(len(word)+len(divisor)-1,\"0\")\n",
    "  dividend=list(dividend)\n",
    "  for i in range(len(dividend)):\n",
    "    if(dividend[i]=='0'):\n",
    "      continue;\n",
    "    if(len(divisor)+i<=len(dividend)):\n",
    "      for j in range(len(divisor)):\n",
    "        dividend[i+j]=str(int(dividend[i+j])^int(divisor[j]))\n",
    "    else :\n",
    "      break;\n",
    "  dividend = ''.join(dividend)\n",
    "  reminder = dividend[len(dividend)-len(divisor)+1:len(dividend)]\n",
    "  codeword = word+reminder\n",
    "  return codeword;"
   ]
  },
  {
   "cell_type": "markdown",
   "id": "06c95814",
   "metadata": {},
   "source": [
    "**Decode Function :**  \n",
    "Decode the recieved codeword which checks for the error detection.  \n",
    "Params:  *codeword* (the recieced data for error detection) , *divisor* (the key to use decode the data)  \n",
    "Returns *True* if there is no error else returns *False*  "
   ]
  },
  {
   "cell_type": "code",
   "execution_count": 13,
   "id": "7bdfcfdb",
   "metadata": {},
   "outputs": [],
   "source": [
    "def decode(codeword,divisor):\n",
    "  codeword=list(codeword)\n",
    "  for i in range(len(codeword)):\n",
    "    if(codeword[i]=='0'):\n",
    "      continue;\n",
    "    if(len(divisor)+i<=len(codeword)):\n",
    "      for j in range(len(divisor)):\n",
    "        codeword[i+j]=str(int(codeword[i+j])^int(divisor[j]))\n",
    "    else :\n",
    "      break;\n",
    "  return all(v == '0' for v in codeword);"
   ]
  },
  {
   "cell_type": "markdown",
   "id": "25ba9f80",
   "metadata": {},
   "source": [
    "*Uncomment this code to take manual input*"
   ]
  },
  {
   "cell_type": "code",
   "execution_count": 14,
   "id": "eb65766a",
   "metadata": {},
   "outputs": [],
   "source": [
    "# word = input('Please input the word: ')\n",
    "# divisor = input('Please input the co-effienct of polynomial: ')\n",
    "# print(\"codeword : \"+encode(word,divisor))\n",
    "\n",
    "# codeword = input('Please input the codeword: ')\n",
    "# print(\"Recieved code is \"+str(decode(codeword,divisor)))"
   ]
  },
  {
   "cell_type": "markdown",
   "id": "481e3f77",
   "metadata": {},
   "source": [
    "*Example of CRC :*  \n",
    "Code - 100100    \n",
    "Key - 1101 \n",
    "Recieved Codeword 1: 100100001  \n",
    "Recieved Codeword 2: 100100000  "
   ]
  },
  {
   "cell_type": "code",
   "execution_count": 15,
   "id": "ef93e237",
   "metadata": {},
   "outputs": [
    {
     "name": "stdout",
     "output_type": "stream",
     "text": [
      "Decoded codeword 100100001\n",
      "Recieved codeword 1 has no error ? True\n",
      "Recieved codeword 2 has no error ? False\n"
     ]
    }
   ],
   "source": [
    "print(\"Decoded codeword \" + encode(\"100100\",\"1101\"))\n",
    "print(\"Recieved codeword 1 has no error ? \" + str(decode(\"100100001\",\"1101\")))\n",
    "print(\"Recieved codeword 2 has no error ? \" + str(decode(\"100100000\",\"1101\")))"
   ]
  }
 ],
 "metadata": {
  "kernelspec": {
   "display_name": "Python 3 (ipykernel)",
   "language": "python",
   "name": "python3"
  },
  "language_info": {
   "codemirror_mode": {
    "name": "ipython",
    "version": 3
   },
   "file_extension": ".py",
   "mimetype": "text/x-python",
   "name": "python",
   "nbconvert_exporter": "python",
   "pygments_lexer": "ipython3",
   "version": "3.9.12"
  }
 },
 "nbformat": 4,
 "nbformat_minor": 5
}
